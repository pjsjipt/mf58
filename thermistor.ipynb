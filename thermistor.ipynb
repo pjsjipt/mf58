{
 "cells": [
  {
   "cell_type": "code",
   "execution_count": null,
   "id": "inner-trouble",
   "metadata": {},
   "outputs": [],
   "source": [
    "import Pkg\n",
    "Pkg.activate(\".\")"
   ]
  },
  {
   "cell_type": "code",
   "execution_count": null,
   "id": "focused-blood",
   "metadata": {},
   "outputs": [],
   "source": [
    "using Gridap\n",
    "using GridapGmsh\n",
    "using Gridap.Geometry"
   ]
  },
  {
   "cell_type": "code",
   "execution_count": null,
   "id": "fifth-butterfly",
   "metadata": {},
   "outputs": [],
   "source": [
    "function thermistor(msh, U₀, fname, Tw = 200.0, order=1, Tref=0.0)\n",
    "    Prₐ = 0.707\n",
    "    kₐ = 25.3e-3\n",
    "    νₐ = 1.6e-5\n",
    "\n",
    "    D₁ = 2e-3\n",
    "    D₂ = 0.5e-3\n",
    "    Re₁ = U₀ * D₁ / νₐ\n",
    "    Re₂ = U₀ * D₂ / νₐ\n",
    "\n",
    "    Nu₁ = 0.51 * Re₁^0.5 * Prₐ^0.37\n",
    "    Nu₂ = 0.51 * Re₂^0.5 * Prₐ^0.37\n",
    "\n",
    "    k₁ = 1.0\n",
    "    k₂ = 50.0\n",
    "    h₁ = kₐ * Nu₁ / D₁\n",
    "    h₂ = kₐ * Nu₂ / D₂ \n",
    "\n",
    "    model = GmshDiscreteModel(msh)\n",
    "    degree = 2*order\n",
    "    reffe = ReferenceFE(lagrangian, Float64, order)\n",
    "    V = TestFESpace(model, reffe, dirichlet_tags=[\"temp\", \"tempend\"])\n",
    "    U = TrialFESpace(V, [Tw-Tref, 0])\n",
    "\n",
    "    Ω = Triangulation(model)\n",
    "    dΩ = Measure(Ω, degree)    \n",
    "\n",
    "    Γ₁ = BoundaryTriangulation(model, tags=\"hglass\")\n",
    "    dΓ₁ = Measure(Γ₁, degree)    \n",
    "    \n",
    "    Γ₂ = BoundaryTriangulation(model, tags=\"hsteel\")\n",
    "    dΓ₂ = Measure(Γ₂, degree)    \n",
    "    \n",
    "    labels = get_face_labeling(model)\n",
    "    dimension = 2\n",
    "    tags = get_face_tag(labels, dimension);    \n",
    "    tag_steel = get_tag_from_name(labels, \"steel\")\n",
    "    tag_glass = get_tag_from_name(labels, \"glass\")    \n",
    "    \n",
    "    heatflux = (∇u, tag) -> begin\n",
    "        if tag == tag_steel\n",
    "            return k₂ * ∇u\n",
    "        else\n",
    "            return k₁ * ∇u\n",
    "        end \n",
    "    end\n",
    "    \n",
    "    f(x) = 0.0\n",
    "    r(x) = x[2]\n",
    "\n",
    "    a(u,v) = ∫( r*∇(v)⋅ (heatflux∘(∇(u), tags) ) )*dΩ + ∫(r*v*u*h₁)*dΓ₁ + ∫(r*v*u*h₂)*dΓ₂\n",
    "    b(v) = ∫(r*v*f)*dΩ\n",
    "    println(\"Tw = $Tw\")\n",
    "    println(\"Re₁ = $Re₁\")\n",
    "    println(\"Re₂ = $Re₂\")\n",
    "    println(\"h₁ = $h₁ W/(m²K)\")\n",
    "    println(\"h₂ = $h₂ W/(m²K)\")    \n",
    "    op = AffineFEOperator(a,b,U,V)\n",
    "    \n",
    "    ls = LUSolver()\n",
    "    solver = LinearFESolver(ls)\n",
    "    \n",
    "    uh = solve(solver, op)\n",
    "    \n",
    "    writevtk(Ω, fname, cellfields=[\"T\"=>uh+Tref])\n",
    "    return uh, Ω, dΩ, Γ₁, dΓ₁, Γ₂, dΓ₂\n",
    "end\n"
   ]
  },
  {
   "cell_type": "code",
   "execution_count": null,
   "id": "lesbian-politics",
   "metadata": {},
   "outputs": [],
   "source": [
    "x = thermistor(\"mf58.msh\", 20.0, \"lixo\")"
   ]
  },
  {
   "cell_type": "code",
   "execution_count": null,
   "id": "orange-energy",
   "metadata": {},
   "outputs": [],
   "source": [
    "numstring(x, n=3) = string(x + 10^n)[2:end]"
   ]
  },
  {
   "cell_type": "code",
   "execution_count": null,
   "id": "ambient-brighton",
   "metadata": {},
   "outputs": [],
   "source": [
    "U = [0.1, 0.2, 0.3, 0.5, 0.7, 1.0, 1.2, 1.5, 2.0, 2.5, 3.0, 3.5, 4, 5, 6,7, 8, 10, 12, 14, 16, 18, 20]\n",
    "fnames = \"thermistor_\" .* numstring.(round.(Int, 10*U))\n",
    "thermistor.(\"mf58.msh\", U, fnames)"
   ]
  },
  {
   "cell_type": "code",
   "execution_count": null,
   "id": "complex-thumbnail",
   "metadata": {},
   "outputs": [],
   "source": [
    "x = thermistor(\"mf58.msh\", 10.0, \"teste_02\", 200)"
   ]
  },
  {
   "cell_type": "code",
   "execution_count": null,
   "id": "educational-evolution",
   "metadata": {},
   "outputs": [],
   "source": [
    "g = ∇(x[1])"
   ]
  },
  {
   "cell_type": "code",
   "execution_count": null,
   "id": "dirty-opera",
   "metadata": {},
   "outputs": [],
   "source": [
    "typeof(x[1])"
   ]
  },
  {
   "cell_type": "code",
   "execution_count": null,
   "id": "protecting-aluminum",
   "metadata": {},
   "outputs": [],
   "source": [
    "supertypes(typeof(x[1]))"
   ]
  },
  {
   "cell_type": "code",
   "execution_count": null,
   "id": "comprehensive-product",
   "metadata": {},
   "outputs": [],
   "source": [
    "typeof(x[1]) <: AbstractArray"
   ]
  },
  {
   "cell_type": "code",
   "execution_count": null,
   "id": "surprising-dublin",
   "metadata": {},
   "outputs": [],
   "source": [
    "Map"
   ]
  },
  {
   "cell_type": "code",
   "execution_count": null,
   "id": "beautiful-richmond",
   "metadata": {},
   "outputs": [],
   "source": [
    "lagrangian"
   ]
  },
  {
   "cell_type": "code",
   "execution_count": null,
   "id": "biblical-filling",
   "metadata": {},
   "outputs": [],
   "source": [
    "order = 1\n",
    "msh = \"mf58.msh\"\n",
    "model = GmshDiscreteModel(msh)\n",
    "degree = 2*order\n",
    "reffe = ReferenceFE(lagrangian, Float64, order)\n",
    "Tw = 200.0\n",
    "Tref = 0.0\n",
    "V = TestFESpace(model, reffe, dirichlet_tags=\"temp\")\n",
    "U = TrialFESpace(V, Tw-Tref)\n",
    "\n",
    "Ω = Triangulation(model)\n",
    "dΩ = Measure(Ω, degree)    \n",
    "\n",
    "Γ₁ = BoundaryTriangulation(model, tags=\"hglass\")\n",
    "dΓ₁ = Measure(Γ₁, degree)    \n",
    "    \n",
    "Γ₂ = BoundaryTriangulation(model, tags=\"hsteel\")\n",
    "dΓ₂ = Measure(Γ₁, degree)    "
   ]
  },
  {
   "cell_type": "code",
   "execution_count": null,
   "id": "embedded-webcam",
   "metadata": {},
   "outputs": [],
   "source": [
    "import Gridap.Geometry"
   ]
  },
  {
   "cell_type": "code",
   "execution_count": null,
   "id": "prescribed-malta",
   "metadata": {},
   "outputs": [],
   "source": [
    "y = get_facet_normal(x[4]);"
   ]
  },
  {
   "cell_type": "code",
   "execution_count": null,
   "id": "therapeutic-memory",
   "metadata": {},
   "outputs": [],
   "source": [
    "typeof(y) <: AbstractArray"
   ]
  },
  {
   "cell_type": "code",
   "execution_count": null,
   "id": "gross-emphasis",
   "metadata": {},
   "outputs": [],
   "source": [
    "z = y[1]"
   ]
  },
  {
   "cell_type": "code",
   "execution_count": null,
   "id": "widespread-monaco",
   "metadata": {},
   "outputs": [],
   "source": [
    "z"
   ]
  },
  {
   "cell_type": "code",
   "execution_count": null,
   "id": "hydraulic-fitness",
   "metadata": {},
   "outputs": [],
   "source": [
    "z.op"
   ]
  },
  {
   "cell_type": "code",
   "execution_count": null,
   "id": "challenging-genome",
   "metadata": {},
   "outputs": [],
   "source": [
    "uh = x[1]"
   ]
  },
  {
   "cell_type": "code",
   "execution_count": null,
   "id": "absolute-accent",
   "metadata": {},
   "outputs": [],
   "source": []
  },
  {
   "cell_type": "code",
   "execution_count": null,
   "id": "sorted-dodge",
   "metadata": {},
   "outputs": [],
   "source": [
    "typeof(uh) <: CellField"
   ]
  },
  {
   "cell_type": "code",
   "execution_count": null,
   "id": "plastic-flush",
   "metadata": {},
   "outputs": [],
   "source": [
    "typeof(∫)"
   ]
  },
  {
   "cell_type": "code",
   "execution_count": null,
   "id": "nuclear-mainstream",
   "metadata": {},
   "outputs": [],
   "source": [
    "∫"
   ]
  },
  {
   "cell_type": "code",
   "execution_count": null,
   "id": "durable-scheme",
   "metadata": {},
   "outputs": [],
   "source": [
    "methods(Gridap.CellData.Integrand)\n"
   ]
  },
  {
   "cell_type": "code",
   "execution_count": null,
   "id": "cloudy-basketball",
   "metadata": {},
   "outputs": [],
   "source": [
    "H = integrate(uh, x[5])"
   ]
  },
  {
   "cell_type": "code",
   "execution_count": null,
   "id": "consecutive-flexibility",
   "metadata": {},
   "outputs": [],
   "source": [
    "(typeof(x[5])) <: CellQuadrature"
   ]
  },
  {
   "cell_type": "code",
   "execution_count": null,
   "id": "north-intersection",
   "metadata": {},
   "outputs": [],
   "source": [
    "typeof(H)"
   ]
  },
  {
   "cell_type": "code",
   "execution_count": null,
   "id": "opponent-scholarship",
   "metadata": {},
   "outputs": [],
   "source": [
    "typeof(∫(uh)*x[5])"
   ]
  },
  {
   "cell_type": "code",
   "execution_count": null,
   "id": "nutritional-victim",
   "metadata": {},
   "outputs": [],
   "source": [
    "H"
   ]
  },
  {
   "cell_type": "code",
   "execution_count": null,
   "id": "extraordinary-comment",
   "metadata": {},
   "outputs": [],
   "source": [
    "xx = H.dict\n"
   ]
  },
  {
   "cell_type": "code",
   "execution_count": null,
   "id": "attempted-introduction",
   "metadata": {},
   "outputs": [],
   "source": [
    "xx.ndel\n"
   ]
  },
  {
   "cell_type": "code",
   "execution_count": null,
   "id": "naked-certification",
   "metadata": {},
   "outputs": [],
   "source": []
  },
  {
   "cell_type": "code",
   "execution_count": null,
   "id": "physical-blake",
   "metadata": {},
   "outputs": [],
   "source": [
    "using Gridap.CellData"
   ]
  },
  {
   "cell_type": "code",
   "execution_count": null,
   "id": "atlantic-halloween",
   "metadata": {},
   "outputs": [],
   "source": [
    "\n",
    "get_normal_vector(x[4]) * "
   ]
  },
  {
   "cell_type": "code",
   "execution_count": null,
   "id": "horizontal-running",
   "metadata": {},
   "outputs": [],
   "source": [
    "get_cell_points(Ω)"
   ]
  },
  {
   "cell_type": "code",
   "execution_count": null,
   "id": "ordered-treasurer",
   "metadata": {},
   "outputs": [],
   "source": []
  }
 ],
 "metadata": {
  "kernelspec": {
   "display_name": "Julia 1.7.2",
   "language": "julia",
   "name": "julia-1.7"
  },
  "language_info": {
   "file_extension": ".jl",
   "mimetype": "application/julia",
   "name": "julia",
   "version": "1.7.2"
  }
 },
 "nbformat": 4,
 "nbformat_minor": 5
}

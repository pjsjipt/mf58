{
 "cells": [
  {
   "cell_type": "code",
   "execution_count": null,
   "id": "inner-trouble",
   "metadata": {},
   "outputs": [],
   "source": [
    "import Pkg\n",
    "Pkg.activate(\".\")"
   ]
  },
  {
   "cell_type": "code",
   "execution_count": null,
   "id": "focused-blood",
   "metadata": {},
   "outputs": [],
   "source": [
    "using Gridap\n",
    "using GridapGmsh\n",
    "using Gridap.Geometry"
   ]
  },
  {
   "cell_type": "code",
   "execution_count": null,
   "id": "secret-oxygen",
   "metadata": {},
   "outputs": [],
   "source": [
    "struct ThermistorInfo\n",
    "    U::Float64\n",
    "    k::NTuple{2,Float64}\n",
    "    h::NTuple{2,Float64}\n",
    "    Tw::Float64\n",
    "    Tref::Float64\n",
    "    material::NTuple{2,Symbol}\n",
    "end\n",
    "\n",
    "function ThermistorInfo(U=10.0; k=(1.0, 50.0), Dmm=(2.0, 0.5), Tw=200.0, Tr=0.0, Prₐ=0.707, kₐ=25.3e-3, νₐ=1.6e-5)\n",
    "    \n",
    "    D = Dmm .* 1e-3\n",
    "    Re = (U/νₐ) .* D\n",
    "    Nu = (0.51*Prₐ^0.37) .* Re .^ 0.5 \n",
    "    \n",
    "    h = kₐ .* Nu ./ D\n",
    "    \n",
    "    \n",
    "    return ThermistorInfo(U, k, h, Tw, Tr, (:G, :S))\n",
    "end\n",
    "\n",
    "function matidx(m::Symbol) \n",
    "    if m==:G\n",
    "        1\n",
    "    else\n",
    "        2\n",
    "    end\n",
    "end\n",
    "\n",
    "velocity(th::ThermistorInfo) = th.U\n",
    "temperature(th::ThermistorInfo) = th.Tw\n",
    "hconv(th::ThermistorInfo, idx::Integer) = th.h[idx]    \n",
    "kcond(th::ThermistorInfo, idx::Integer) = th.k[idx]    \n",
    "\n",
    "hconv(th::ThermistorInfo, m::Symbol) = th.h[matidx(m)]    \n",
    "kcond(th::ThermistorInfo, m::Symbol) = th.k[matidx(m)]    \n"
   ]
  },
  {
   "cell_type": "code",
   "execution_count": null,
   "id": "fifth-butterfly",
   "metadata": {},
   "outputs": [],
   "source": [
    "r(x) = x[2]\n",
    "function thermistor(model, thermistor, fname; order=2)\n",
    "\n",
    "    degree = 2*order\n",
    "    reffe = ReferenceFE(lagrangian, Float64, order)\n",
    "    \n",
    "    Tw = thermistor.Tw\n",
    "    Tref = thermistor.Tref\n",
    "    \n",
    "    V = TestFESpace(model, reffe, dirichlet_tags=[\"temp_glass\", \"temp_steel\"])\n",
    "    U = TrialFESpace(V, [Tw-Tref, Tw-Tref])\n",
    "\n",
    "    Ω = Triangulation(model)\n",
    "    dΩ = Measure(Ω, degree)    \n",
    "\n",
    "    Γg = BoundaryTriangulation(model, tags=\"hglass\")\n",
    "    dΓg = Measure(Γg, degree)    \n",
    "    \n",
    "    Γs = BoundaryTriangulation(model, tags=\"hsteel\")\n",
    "    dΓs = Measure(Γs, degree)    \n",
    "    \n",
    "    Γtg = BoundaryTriangulation(model, tags=\"temp_glass\")\n",
    "    Γts = BoundaryTriangulation(model, tags=\"temp_steel\")\n",
    "    dΓts = Measure(Γts, degree)\n",
    "    dΓtg = Measure(Γtg, degree)\n",
    "    \n",
    "    labels = get_face_labeling(model)\n",
    "    dimension = 2\n",
    "    tags = get_face_tag(labels, dimension);    \n",
    "    tag_steel = get_tag_from_name(labels, \"steel\")\n",
    "    tag_glass = get_tag_from_name(labels, \"glass\")    \n",
    "    \n",
    "    kg = kcond(thermistor, :G)\n",
    "    ks = kcond(thermistor, :S)\n",
    "\n",
    "    hg = hconv(thermistor, :G)\n",
    "    hs = hconv(thermistor, :S)\n",
    "\n",
    "    heatflux = (∇u, tag) -> begin\n",
    "        if tag == tag_steel\n",
    "            return ks * ∇u\n",
    "        else\n",
    "            return kg * ∇u\n",
    "        end \n",
    "    end\n",
    "    \n",
    "    f(x) = 0.0\n",
    "\n",
    "    a(u,v) = ∫( r*∇(v)⋅ (heatflux∘(∇(u), tags) ) )*dΩ  + ∫(r*v*u*hg)*dΓg + ∫(r*v*u*hs)*dΓs\n",
    "    b(v) = ∫(r*v*f)*dΩ\n",
    "    op = AffineFEOperator(a,b,U,V)\n",
    "    \n",
    "    ls = LUSolver()\n",
    "    solver = LinearFESolver(ls)\n",
    "    \n",
    "    uh = solve(solver, op)\n",
    "    \n",
    "    writevtk(Ω, fname, cellfields=[\"T\"=>uh+Tref])\n",
    "    return uh, Ω, dΩ, Γs, dΓs, Γg, dΓg, Γts, dΓts, Γtg, dΓtg\n",
    "end\n"
   ]
  },
  {
   "cell_type": "code",
   "execution_count": null,
   "id": "metallic-paris",
   "metadata": {},
   "outputs": [],
   "source": [
    "model = GmshDiscreteModel(\"mf58.msh\")\n",
    "th = ThermistorInfo(10)"
   ]
  },
  {
   "cell_type": "code",
   "execution_count": null,
   "id": "lesbian-politics",
   "metadata": {},
   "outputs": [],
   "source": [
    "uh, Ω, dΩ, Γs, dΓs, Γg, dΓg, Γts, dΓts, Γtg, dΓtg = thermistor(model, th, \"lixo\")"
   ]
  },
  {
   "cell_type": "code",
   "execution_count": null,
   "id": "modified-transportation",
   "metadata": {},
   "outputs": [],
   "source": [
    "hg = hconv(th, :G)\n",
    "hs = hconv(th, :S)\n",
    "kg = kcond(th, :G)\n",
    "ks = kcond(th, :S)\n",
    "U = velocity(th)\n",
    "Tw = temperature(th)\n"
   ]
  },
  {
   "cell_type": "code",
   "execution_count": null,
   "id": "impossible-hollow",
   "metadata": {},
   "outputs": [],
   "source": [
    "Q̇g = 2 * 2π * hg * sum(∫(r*uh)*dΓg)\n",
    "Q̇s = 2 * 2π * hs * sum(∫(r*uh)*dΓs)\n",
    "\n",
    "Q̇g, Q̇s, Q̇g+Q̇s"
   ]
  },
  {
   "cell_type": "code",
   "execution_count": null,
   "id": "compatible-vintage",
   "metadata": {},
   "outputs": [],
   "source": [
    "ng = get_normal_vector(Γg)\n",
    "ns = get_normal_vector(Γs)\n",
    "\n",
    "Q̇g1 = - 2 * 2π * kg * sum(∫(r*(∇(uh)⋅ng))*dΓg)\n",
    "\n",
    "Q̇s1 = - 2 * 2π * ks * sum(∫(r*(∇(uh)⋅ns))*dΓs)\n",
    "\n",
    "Q̇g1, Q̇s1, Q̇g1 + Q̇s1"
   ]
  },
  {
   "cell_type": "code",
   "execution_count": null,
   "id": "touched-suggestion",
   "metadata": {},
   "outputs": [],
   "source": [
    "ntg = get_normal_vector(Γtg)\n",
    "nts = get_normal_vector(Γts)\n",
    "\n",
    "Q̇tg = 2 * 2π * kg * sum(∫(r*∇(uh)⋅ntg)*dΓtg)\n",
    "Q̇ts = 2 * 2π * ks * sum(∫(r*∇(uh)⋅nts)*dΓts)\n",
    "\n",
    "Q̇tg, Q̇ts, Q̇tg + Q̇ts"
   ]
  },
  {
   "cell_type": "code",
   "execution_count": null,
   "id": "analyzed-circle",
   "metadata": {},
   "outputs": [],
   "source": [
    "Ag = 2π * sum(∫(r)*dΓg) * (10^3)^2\n",
    "As = 2π * sum(∫(r)*dΓs) * (10^3)^2\n",
    "Tg = 2π * sum(∫(r*uh)*dΓg) * (10^3)^2 / Ag\n",
    "Ts = 2π * sum(∫(r*uh)*dΓg) * (10^3)^2 / As"
   ]
  },
  {
   "cell_type": "code",
   "execution_count": null,
   "id": "demographic-seating",
   "metadata": {},
   "outputs": [],
   "source": [
    "π*2*4 + 2π"
   ]
  },
  {
   "cell_type": "code",
   "execution_count": null,
   "id": "sonic-buying",
   "metadata": {},
   "outputs": [],
   "source": [
    "2 * (2π*1.0*1.5 + 2π * 0.75 * π/4  + π*(0.5^2-0.35^2)) + 2*π*0.35^2"
   ]
  },
  {
   "cell_type": "code",
   "execution_count": null,
   "id": "orange-energy",
   "metadata": {},
   "outputs": [],
   "source": [
    "numstring(x, n=3) = string(x + 10^n)[2:end]"
   ]
  },
  {
   "cell_type": "code",
   "execution_count": null,
   "id": "ambient-brighton",
   "metadata": {},
   "outputs": [],
   "source": [
    "model = GmshDiscreteModel(\"mf58.msh\")\n",
    "\n",
    "U = [0.1, 0.2, 0.3, 0.5, 0.7, 1.0, 1.2, 1.5, 2.0, 2.5, 3.0, 3.5, 4, 5, 6,7, 8, 10, 12, 14, 16, 18, 20]\n",
    "fnames = \"thermistor_\" .* numstring.(round.(Int, 10*U))\n",
    "th = ThermistorInfo.(U)\n",
    "simul = thermistor.([model], th, fnames);"
   ]
  },
  {
   "cell_type": "code",
   "execution_count": null,
   "id": "complex-thumbnail",
   "metadata": {},
   "outputs": [],
   "source": []
  },
  {
   "cell_type": "code",
   "execution_count": null,
   "id": "educational-evolution",
   "metadata": {},
   "outputs": [],
   "source": [
    "function process_thermistor(data, th)\n",
    "    uh, Ω, dΩ, Γs, dΓs, Γg, dΓg, Γts, dΓts, Γtg, dΓtg = data\n",
    "    hg = hconv(th, :G)\n",
    "    hs = hconv(th, :S)\n",
    "    kg = kcond(th, :G)\n",
    "    ks = kcond(th, :S)\n",
    "    U = velocity(th)\n",
    "    Tw = temperature(th)\n",
    "    \n",
    "    Q̇g = 2 * 2π * hg * sum(∫(r*uh)*dΓg)  # Heat flux from convection in glass surfaces\n",
    "    Q̇s = 2 * 2π * hs * sum(∫(r*uh)*dΓs)  # Heat flux from convection in steel surfaces\n",
    "    \n",
    "    ng = get_normal_vector(Γg) # External normal to glass surfaces\n",
    "    ns = get_normal_vector(Γs) # External normal to steel surfaces\n",
    "    Q̇g1 = - 2 * 2π * kg * sum(∫(r*(∇(uh)⋅ng))*dΓg) # Heat flux from conduction in glass surfaces\n",
    "    Q̇s1 = - 2 * 2π * ks * sum(∫(r*(∇(uh)⋅ns))*dΓs) # Heat flux from conduction in glass surfaces\n",
    "    \n",
    "    ntg = get_normal_vector(Γtg)\n",
    "    nts = get_normal_vector(Γts)\n",
    "    \n",
    "    Q̇tg = 2 * 2π * kg * sum(∫(r*∇(uh)⋅ntg)*dΓtg)\n",
    "    Q̇ts = 2 * 2π * ks * sum(∫(r*∇(uh)⋅nts)*dΓts)\n",
    "\n",
    "    Ag = 2 * 2π * sum(∫(r)*dΓg)\n",
    "    As = 2 * 2π * sum(∫(r)*dΓs)\n",
    "    \n",
    "    Tg = 2*2π * sum(∫(r*uh)*dΓg) / Ag\n",
    "    Ts = 2*2π * sum(∫(r*uh)*dΓs) / As\n",
    "    \n",
    "    return U, Tw, Q̇g, Q̇s, Tg, Ts, Ag, As, Q̇g1, Q̇s1\n",
    "end\n",
    "    \n",
    "    "
   ]
  },
  {
   "cell_type": "code",
   "execution_count": null,
   "id": "through-connecticut",
   "metadata": {},
   "outputs": [],
   "source": [
    "x = process_thermistor.(simul, th)\n",
    "Q̇g = [y[3] for y in x]\n",
    "Q̇s = [y[4] for y in x]\n",
    "Q̇s1 = [y[10] for y in x]\n",
    "Tg = [y[5] for y in x]\n",
    "Ts = [y[6] for y in x];\n",
    "Ag = x[1][7]\n",
    "As = x[1][8]\n",
    "W = Q̇g .+ Q̇s\n",
    "Rw = 100.0\n",
    "Ew = sqrt.(Rw .* W);"
   ]
  },
  {
   "cell_type": "code",
   "execution_count": null,
   "id": "grateful-motor",
   "metadata": {},
   "outputs": [],
   "source": [
    "hg = [x.h[1] for x in th]\n",
    "W1 = hg .* Ag .* th[1].Tw\n",
    "E1 = sqrt.(Rw .* W1);"
   ]
  },
  {
   "cell_type": "code",
   "execution_count": null,
   "id": "outer-spectacular",
   "metadata": {},
   "outputs": [],
   "source": [
    "using CairoMakie\n",
    "using CurveFit"
   ]
  },
  {
   "cell_type": "code",
   "execution_count": null,
   "id": "curious-steal",
   "metadata": {},
   "outputs": [],
   "source": [
    "let fig = Figure()\n",
    "    fit1 = PowerFit(E1, U)\n",
    "    fitW = PowerFit(Ew, U)\n",
    "    ax = Axis(fig[1,1])\n",
    "    scatter!(ax, U, Ew, label=\"Real\", color=:blue)\n",
    "    lines!(ax, fitW.(Ew), Ew, color=:blue)\n",
    "    scatter!(ax, U, E1, label=\"Ideal\", color=:green)\n",
    "    lines!(ax, fit1.(E1), E1, color=:green)\n",
    "    axislegend(ax, position=:rb)\n",
    "    fig\n",
    "end\n"
   ]
  },
  {
   "cell_type": "code",
   "execution_count": null,
   "id": "atlantic-extra",
   "metadata": {},
   "outputs": [],
   "source": [
    "power_fit(U, E1.^2)"
   ]
  },
  {
   "cell_type": "code",
   "execution_count": null,
   "id": "noted-jerusalem",
   "metadata": {},
   "outputs": [],
   "source": [
    "power_fit(U, Ew.^2)"
   ]
  },
  {
   "cell_type": "code",
   "execution_count": null,
   "id": "handy-catholic",
   "metadata": {},
   "outputs": [],
   "source": [
    "Q̇g"
   ]
  },
  {
   "cell_type": "code",
   "execution_count": null,
   "id": "mobile-property",
   "metadata": {},
   "outputs": [],
   "source": [
    "scatterlines(U, Q̇g ./ Q̇s1)"
   ]
  },
  {
   "cell_type": "code",
   "execution_count": null,
   "id": "acquired-suspension",
   "metadata": {},
   "outputs": [],
   "source": []
  },
  {
   "cell_type": "code",
   "execution_count": null,
   "id": "czech-injection",
   "metadata": {},
   "outputs": [],
   "source": []
  },
  {
   "cell_type": "code",
   "execution_count": null,
   "id": "looking-pierce",
   "metadata": {},
   "outputs": [],
   "source": []
  }
 ],
 "metadata": {
  "kernelspec": {
   "display_name": "Julia 1.7.2",
   "language": "julia",
   "name": "julia-1.7"
  },
  "language_info": {
   "file_extension": ".jl",
   "mimetype": "application/julia",
   "name": "julia",
   "version": "1.7.2"
  }
 },
 "nbformat": 4,
 "nbformat_minor": 5
}

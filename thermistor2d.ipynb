{
 "cells": [
  {
   "cell_type": "code",
   "execution_count": null,
   "id": "inner-trouble",
   "metadata": {},
   "outputs": [],
   "source": [
    "import Pkg\n",
    "Pkg.activate(\".\")"
   ]
  },
  {
   "cell_type": "code",
   "execution_count": null,
   "id": "focused-blood",
   "metadata": {},
   "outputs": [],
   "source": [
    "using Gridap\n",
    "using GridapGmsh\n",
    "using Gridap.Geometry"
   ]
  },
  {
   "cell_type": "code",
   "execution_count": null,
   "id": "fifth-butterfly",
   "metadata": {},
   "outputs": [],
   "source": [
    "function thermistor(msh, U₀, fname, Tw = 200.0, order=2, Tref=0.0)\n",
    "    Prₐ = 0.707\n",
    "    kₐ = 25.3e-3\n",
    "    νₐ = 1.6e-5\n",
    "\n",
    "    D₁ = 2e-3\n",
    "    D₂ = 0.5e-3\n",
    "    Re₁ = U₀ * D₁ / νₐ\n",
    "    Re₂ = U₀ * D₂ / νₐ\n",
    "    println(Re₁)\n",
    "    Nu₁ = 0.51 * Re₁^0.5 * Prₐ^0.37\n",
    "    Nu₂ = 0.51 * Re₂^0.5 * Prₐ^0.37\n",
    "\n",
    "    k₁ = 1.0\n",
    "    k₂ = 50.0\n",
    "    h₁ = Nu₁ / D₁ * kₐ/k₁\n",
    "    h₂ = Nu₂ / D₂ * kₐ/k₂\n",
    "    println(h₁)\n",
    "    model = GmshDiscreteModel(msh)\n",
    "    degree = 2*order\n",
    "    reffe = ReferenceFE(lagrangian, Float64, order)\n",
    "    V = TestFESpace(model, reffe, dirichlet_tags=\"temp\")\n",
    "    U = TrialFESpace(V, Tw-Tref)\n",
    "    println(Tw-Tref)\n",
    "    Ω = Triangulation(model)\n",
    "    dΩ = Measure(Ω, degree)    \n",
    "\n",
    "    Γ₁ = BoundaryTriangulation(model, tags=\"hglass\")\n",
    "    dΓ₁ = Measure(Γ₁, degree)    \n",
    "    \n",
    "    Γ₂ = BoundaryTriangulation(model, tags=\"hsteel\")\n",
    "    dΓ₂ = Measure(Γ₁, degree)    \n",
    "    \n",
    "    labels = get_face_labeling(model)\n",
    "    dimension = 2\n",
    "    tags = get_face_tag(labels, dimension);    \n",
    "    tag_steel = get_tag_from_name(labels, \"steel\")\n",
    "    tag_glass = get_tag_from_name(labels, \"glass\")    \n",
    "    \n",
    "    heatflux = (∇u, tag) -> begin\n",
    "        if tag == tag_steel\n",
    "            return h₂ * ∇u\n",
    "        else\n",
    "            return h₁ * ∇u\n",
    "        end \n",
    "    end\n",
    "    \n",
    "    f(x) = 0.0\n",
    "    a(u,v) = ∫( ∇(v)⋅ (heatflux∘(∇(u), tags) ) )*dΩ + ∫(v*u*h₁)*dΓ₁ + ∫(v*u*h₂)*dΓ₂\n",
    "    b(v) = ∫(v*f)*dΩ\n",
    "    \n",
    "    op = AffineFEOperator(a,b,U,V)\n",
    "    \n",
    "    ls = LUSolver()\n",
    "    solver = LinearFESolver(ls)\n",
    "    \n",
    "    uh = solve(solver, op)\n",
    "    \n",
    "    writevtk(Ω, fname, cellfields=[\"T\"=>uh+Tref])\n",
    "    return uh\n",
    "end\n"
   ]
  },
  {
   "cell_type": "code",
   "execution_count": null,
   "id": "orange-energy",
   "metadata": {},
   "outputs": [],
   "source": [
    "numstring(x, n=3) = string(x + 10^n)[2:end]"
   ]
  },
  {
   "cell_type": "code",
   "execution_count": null,
   "id": "focal-banking",
   "metadata": {},
   "outputs": [],
   "source": [
    "heatflux"
   ]
  },
  {
   "cell_type": "code",
   "execution_count": null,
   "id": "ambient-brighton",
   "metadata": {},
   "outputs": [],
   "source": [
    "U = [1.0, 5.0, 10.0, 20.0] #[0.2, 0.5, 1.0, 1.5, 2.0, 2.5, 3.0, 4, 5, 6, 8, 10, 12, 15, 20]\n",
    "fnames = \"thermistor_\" .* numstring.(round.(Int, 10*U))\n",
    "thermistor.(\"mf58.msh\", U, fnames)"
   ]
  },
  {
   "cell_type": "code",
   "execution_count": null,
   "id": "intended-divorce",
   "metadata": {},
   "outputs": [],
   "source": [
    "0.51 * 10 * 0.7^0.37"
   ]
  },
  {
   "cell_type": "code",
   "execution_count": null,
   "id": "heavy-satisfaction",
   "metadata": {},
   "outputs": [],
   "source": [
    "u1 = thermistor(\"mf58.msh\", 1.0, \"lixo_01\")"
   ]
  },
  {
   "cell_type": "code",
   "execution_count": null,
   "id": "demographic-nepal",
   "metadata": {},
   "outputs": [],
   "source": [
    "u2 = thermistor(\"mf58.msh\", 10.0, \"lixo_10\")"
   ]
  },
  {
   "cell_type": "code",
   "execution_count": null,
   "id": "extra-enlargement",
   "metadata": {},
   "outputs": [],
   "source": [
    "u2()"
   ]
  },
  {
   "cell_type": "code",
   "execution_count": null,
   "id": "amateur-planning",
   "metadata": {},
   "outputs": [],
   "source": [
    "u2(0.5e-3, 0.5e-3)"
   ]
  },
  {
   "cell_type": "code",
   "execution_count": null,
   "id": "complex-thumbnail",
   "metadata": {},
   "outputs": [],
   "source": []
  }
 ],
 "metadata": {
  "kernelspec": {
   "display_name": "Julia 1.7.2",
   "language": "julia",
   "name": "julia-1.7"
  },
  "language_info": {
   "file_extension": ".jl",
   "mimetype": "application/julia",
   "name": "julia",
   "version": "1.7.2"
  }
 },
 "nbformat": 4,
 "nbformat_minor": 5
}

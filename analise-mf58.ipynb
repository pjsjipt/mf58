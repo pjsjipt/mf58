{
 "cells": [
  {
   "cell_type": "markdown",
   "id": "junior-mobility",
   "metadata": {},
   "source": [
    "# Análise do MF58"
   ]
  },
  {
   "cell_type": "code",
   "execution_count": null,
   "id": "headed-pearl",
   "metadata": {},
   "outputs": [],
   "source": [
    "import Pkg\n",
    "Pkg.activate(\".\")"
   ]
  },
  {
   "cell_type": "code",
   "execution_count": null,
   "id": "sapphire-eclipse",
   "metadata": {},
   "outputs": [],
   "source": [
    "using Revise\n"
   ]
  },
  {
   "cell_type": "code",
   "execution_count": null,
   "id": "entitled-bracelet",
   "metadata": {},
   "outputs": [],
   "source": [
    "includet(\"fem-thermistor.jl\")"
   ]
  },
  {
   "cell_type": "code",
   "execution_count": null,
   "id": "figured-medium",
   "metadata": {},
   "outputs": [],
   "source": [
    "meshfile = \"mf58.msh\""
   ]
  },
  {
   "cell_type": "code",
   "execution_count": null,
   "id": "obvious-electron",
   "metadata": {},
   "outputs": [],
   "source": [
    "Tw = 200.0  # Temperatura do termistor (interna)\n",
    "Tref = 20.0 # Temperatura do ar\n",
    "Rw = 100.0 # Resistência"
   ]
  },
  {
   "cell_type": "code",
   "execution_count": null,
   "id": "efficient-graph",
   "metadata": {},
   "outputs": [],
   "source": [
    "# Velocidade do vento\n",
    "U1 = [0.1, 0.2, 0.3, 0.5, 0.7, 1.0, 1.2, 1.5, 2.0, 2.5, 3.0, 3.5, 4, 5, 6,7, 8, 10, 12, 14, 16, 18, 20];\n",
    "#U1 = [1.0, 3.0, 10.0]\n",
    "U2 = [(u,0.5*u)  for u in U1];\n",
    "U3 = [(u,2*u)  for u in U1];"
   ]
  },
  {
   "cell_type": "code",
   "execution_count": null,
   "id": "native-biotechnology",
   "metadata": {},
   "outputs": [],
   "source": [
    "th = [ModelInfo.(U1) ModelInfo.(U2) ModelInfo.(U3)];"
   ]
  },
  {
   "cell_type": "code",
   "execution_count": null,
   "id": "ancient-texture",
   "metadata": {
    "scrolled": false
   },
   "outputs": [],
   "source": [
    "model = model = GmshDiscreteModel(\"mf58.msh\")"
   ]
  },
  {
   "cell_type": "code",
   "execution_count": null,
   "id": "downtown-technical",
   "metadata": {},
   "outputs": [],
   "source": [
    "fem = fem_model.(th, [model]);"
   ]
  },
  {
   "cell_type": "code",
   "execution_count": null,
   "id": "institutional-fountain",
   "metadata": {},
   "outputs": [],
   "source": [
    "# Escrever \n",
    "dname = \"vtk\"\n",
    "if !isdir(dname)\n",
    "    mkdir(dname)\n",
    "end\n",
    "numstring(x,n=3) = string(x + 10^n)[2:end]\n",
    "uname = numstring.(round.(Int, 10*U1))\n",
    "fnames1 = joinpath.(dname, \"thermistor_\" .* uname)\n",
    "fnames2 = joinpath.(dname, \"thermistor_ulo_\" .* uname)\n",
    "fnames3 = joinpath.(dname, \"thermistor_uhi_\" .* uname)\n",
    "ferrlo = joinpath.(dname, \"err_ulo_\" .* uname)\n",
    "ferrhi = joinpath.(dname, \"err_uhi_\" .* uname)\n",
    "\n",
    "nfem = length(U1)\n",
    "for i in 1:nfem\n",
    "    T = fem[i,1][1] + Tref\n",
    "    Thi = fem[i,2][1] + Tref\n",
    "    Tlo = fem[i,3][1] + Tref\n",
    "    \n",
    "    errlo = Tlo - T\n",
    "    errhi = Thi - T\n",
    "    writevtk(fem[i,1][2][1], fnames1[i], cellfields=[\"T\"=>T, \"Thi\"=>Thi, \"Tlo\"=>Tlo, \"errhi\"=>errhi, \"errlo\"=>errlo])\n",
    "    #writevtk(fem[i,1][2][1], fnames1[i], cellfields=[\"T\"=>fem[i,1][1]+Tref])\n",
    "    #writevtk(fem[i,2][2][1], fnames2[i], cellfields=[\"T\"=>fem[i,2][1]+Tref])\n",
    "    #writevtk(fem[i,3][2][1], fnames3[i], cellfields=[\"T\"=>fem[i,3][1]+Tref])#\n",
    "\n",
    "    #writevtk(fem[i,1][2][1], ferrlo[i], cellfields=[\"T\"=>fem[i,2][1] - fem[i,1][1]])\n",
    "    #writevtk(fem[i,1][2][1], ferrhi[i], cellfields=[\"T\"=>fem[i,3][1] - fem[i,1][1]])\n",
    "    \n",
    "end    "
   ]
  },
  {
   "cell_type": "code",
   "execution_count": null,
   "id": "directed-andrew",
   "metadata": {},
   "outputs": [],
   "source": [
    "e"
   ]
  },
  {
   "cell_type": "code",
   "execution_count": null,
   "id": "occasional-uruguay",
   "metadata": {},
   "outputs": [],
   "source": [
    "th[1,1].k"
   ]
  },
  {
   "cell_type": "code",
   "execution_count": null,
   "id": "protected-wallace",
   "metadata": {
    "scrolled": false
   },
   "outputs": [],
   "source": [
    "x = process_thermistor.(th, fem);"
   ]
  },
  {
   "cell_type": "code",
   "execution_count": null,
   "id": "dirty-review",
   "metadata": {},
   "outputs": [],
   "source": [
    "size(x)"
   ]
  },
  {
   "cell_type": "code",
   "execution_count": null,
   "id": "sustainable-georgia",
   "metadata": {},
   "outputs": [],
   "source": [
    "surftemp(x,i=1) = x[1][i]\n",
    "surfheat(x,i=1,k=2) = x[k][i]\n"
   ]
  },
  {
   "cell_type": "code",
   "execution_count": null,
   "id": "banned-salvation",
   "metadata": {},
   "outputs": [],
   "source": [
    "Tg = surftemp.(x,1) .+ Tref; # Temp. superf. do vidro\n",
    "Ts = surftemp.(x,2) .+ Tref; # Temp. superf do fio"
   ]
  },
  {
   "cell_type": "code",
   "execution_count": null,
   "id": "552c6555",
   "metadata": {},
   "outputs": [],
   "source": []
  },
  {
   "cell_type": "code",
   "execution_count": null,
   "id": "fundamental-yacht",
   "metadata": {},
   "outputs": [],
   "source": [
    "Qhg = surfheat.(x,1,2); # Transf. calor do vidro (conv)\n",
    "Qhs = surfheat.(x,2,2); # Transf. calor do fio (conv)"
   ]
  },
  {
   "cell_type": "code",
   "execution_count": null,
   "id": "artificial-report",
   "metadata": {},
   "outputs": [],
   "source": [
    "# Transferência de calor a partir da superfíce quente no interior\n",
    "Qt = -surfheat.(x,1,3) - surfheat.(x,2,3);"
   ]
  },
  {
   "cell_type": "code",
   "execution_count": null,
   "id": "hundred-removal",
   "metadata": {},
   "outputs": [],
   "source": [
    "Qhg1 = surfheat.(x,1,4); # Transf. calor do vidro (cond)\n",
    "Qhs1 = surfheat.(x,2,4); # Transf. calor do fio (cond)"
   ]
  },
  {
   "cell_type": "code",
   "execution_count": null,
   "id": "spectacular-detective",
   "metadata": {},
   "outputs": [],
   "source": [
    "# Transferência de calor total\n",
    "Qh = Qhg + Qhs;\n",
    "Qh1 = Qhg1 + Qhs1; "
   ]
  },
  {
   "cell_type": "code",
   "execution_count": null,
   "id": "olympic-cornell",
   "metadata": {},
   "outputs": [],
   "source": [
    "# Tensão no termistor:\n",
    "E = sqrt.( Qh .* Rw);"
   ]
  },
  {
   "cell_type": "code",
   "execution_count": null,
   "id": "03880c21",
   "metadata": {},
   "outputs": [],
   "source": [
    "E[:,1]"
   ]
  },
  {
   "cell_type": "markdown",
   "id": "demographic-fluid",
   "metadata": {},
   "source": [
    "Condição ideal\n",
    "\n",
    " * A superfície externa do vidro tem temperatura do termistor (Tw).\n",
    " * Toda a transferência de calor se dá no vidro\n"
   ]
  },
  {
   "cell_type": "code",
   "execution_count": null,
   "id": "close-arizona",
   "metadata": {},
   "outputs": [],
   "source": [
    "Ag = 2*x[1][5][1]  # Area da região de vidro\n",
    "hg = (w->w.h[\"hglass\"]).(th)\n",
    "Qi = hg .* Ag .* (Tw - Tref);\n",
    "Ei = sqrt.( Qi .* Rw);"
   ]
  },
  {
   "cell_type": "code",
   "execution_count": null,
   "id": "3fec9aa3",
   "metadata": {},
   "outputs": [],
   "source": [
    "Ei[:,1]"
   ]
  },
  {
   "cell_type": "code",
   "execution_count": null,
   "id": "alien-sleeve",
   "metadata": {},
   "outputs": [],
   "source": [
    "using CairoMakie\n",
    "using CurveFit"
   ]
  },
  {
   "cell_type": "code",
   "execution_count": null,
   "id": "necessary-smoke",
   "metadata": {},
   "outputs": [],
   "source": [
    "#fit0 = PowerFit(U1, Ei[:,1].^2)\n",
    "#fit1 = PowerFit(U1, E[:,1].^2)\n",
    "#fit2 = PowerFit(U1, E[:,2].^2)\n",
    "\n",
    "fit0 = PowerFit(Ei[:,1], U1)\n",
    "fit1 = PowerFit(E[:,1], U1)\n",
    "fit2 = PowerFit(E[:,2], U1)\n",
    "fit3 = PowerFit(E[:,3], U1)"
   ]
  },
  {
   "cell_type": "code",
   "execution_count": null,
   "id": "criminal-study",
   "metadata": {},
   "outputs": [],
   "source": [
    "fit1"
   ]
  },
  {
   "cell_type": "code",
   "execution_count": null,
   "id": "stuck-learning",
   "metadata": {},
   "outputs": [],
   "source": [
    "fig = Figure()\n",
    "ax = Axis(fig[1,1])\n",
    "ei = Ei[:,1]; e1 = E[:,1]; e2 = E[:,2]; e3 = E[:,3]\n",
    "\n",
    "scatter!(ax, U1, ei, colr=:black, label=\"Ideal\")\n",
    "lines!(ax, fit0.(ei), ei, color=:black)\n",
    "scatter!(ax, U1, e1, color=:green, label=\"Homogeneo\")\n",
    "lines!(ax, fit1.(e1), e1, color=:green)\n",
    "scatter!(ax, U1, e2, color=:blue, label=\"Fio Vel Menor\")\n",
    "lines!(ax, fit2.(e2), e2, color=:blue)\n",
    "scatter!(ax, U1, E[:,3], color=:red, label=\"Fio Vel Maior\")\n",
    "lines!(ax, fit3.(e3), e3, color=:red)\n",
    "fig"
   ]
  },
  {
   "cell_type": "markdown",
   "id": "1d5cbd07",
   "metadata": {},
   "source": [
    "## Ler os dados experimentais"
   ]
  },
  {
   "cell_type": "code",
   "execution_count": null,
   "id": "f45aca14",
   "metadata": {},
   "outputs": [],
   "source": [
    "using HDF5"
   ]
  },
  {
   "cell_type": "code",
   "execution_count": null,
   "id": "a770393f",
   "metadata": {},
   "outputs": [],
   "source": [
    "Ec, Uc,Tc= h5open(\"calibr-data.h5\", \"r\") do h\n",
    "   \n",
    "    \n",
    "    E = read(h[\"E\"])\n",
    "    U = read(h[\"U\"])\n",
    "    T = read(h[\"T\"])\n",
    "    iz = U[:,1] .> 0\n",
    "    \n",
    "    6 .* E[iz,:],U[iz,:],T[iz,:]\n",
    "end"
   ]
  },
  {
   "cell_type": "code",
   "execution_count": null,
   "id": "7a3c7a3e",
   "metadata": {},
   "outputs": [],
   "source": [
    "lines(U1, E[:,1])\n",
    "scatter!(Uc[:,1], Ec[:,1])\n",
    "current_figure()"
   ]
  },
  {
   "cell_type": "code",
   "execution_count": null,
   "id": "f91d97de",
   "metadata": {},
   "outputs": [],
   "source": [
    "PowerFit(Ec[:,1], Uc[:,1])"
   ]
  },
  {
   "cell_type": "markdown",
   "id": "d8c83b06",
   "metadata": {},
   "source": [
    "#### labels = get_face_labeling(model)"
   ]
  },
  {
   "cell_type": "code",
   "execution_count": null,
   "id": "1f8fd802",
   "metadata": {},
   "outputs": [],
   "source": [
    "tags = get_face_tag(labels, 2);"
   ]
  },
  {
   "cell_type": "code",
   "execution_count": null,
   "id": "46e65b00",
   "metadata": {},
   "outputs": [],
   "source": [
    "get_tag_from_name(labels, \"glass\")"
   ]
  },
  {
   "cell_type": "code",
   "execution_count": null,
   "id": "subjective-accessory",
   "metadata": {},
   "outputs": [],
   "source": [
    "ee = 12\n",
    "fit1(ee), fit2(ee), fit3(ee)"
   ]
  },
  {
   "cell_type": "code",
   "execution_count": null,
   "id": "geographic-dallas",
   "metadata": {},
   "outputs": [],
   "source": [
    "th .|> getfield"
   ]
  },
  {
   "cell_type": "code",
   "execution_count": null,
   "id": "hungarian-burden",
   "metadata": {},
   "outputs": [],
   "source": [
    "getfield(th[1], :h)"
   ]
  },
  {
   "cell_type": "code",
   "execution_count": null,
   "id": "remarkable-ukraine",
   "metadata": {},
   "outputs": [],
   "source": [
    "king_fit(E[:,3], U1)"
   ]
  }
 ],
 "metadata": {
  "@webio": {
   "lastCommId": null,
   "lastKernelId": null
  },
  "kernelspec": {
   "display_name": "Julia 1.7.2",
   "language": "julia",
   "name": "julia-1.7"
  },
  "language_info": {
   "file_extension": ".jl",
   "mimetype": "application/julia",
   "name": "julia",
   "version": "1.7.2"
  }
 },
 "nbformat": 4,
 "nbformat_minor": 5
}
